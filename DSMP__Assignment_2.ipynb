{
  "nbformat": 4,
  "nbformat_minor": 0,
  "metadata": {
    "colab": {
      "provenance": [],
      "toc_visible": true,
      "authorship_tag": "ABX9TyPNcCHLHaMxMwb83Bq8Wp7A",
      "include_colab_link": true
    },
    "kernelspec": {
      "name": "python3",
      "display_name": "Python 3"
    },
    "language_info": {
      "name": "python"
    }
  },
  "cells": [
    {
      "cell_type": "markdown",
      "metadata": {
        "id": "view-in-github",
        "colab_type": "text"
      },
      "source": [
        "<a href=\"https://colab.research.google.com/github/Mehwish-data/DSMP_Assignments/blob/main/DSMP__Assignment_2.ipynb\" target=\"_parent\"><img src=\"https://colab.research.google.com/assets/colab-badge.svg\" alt=\"Open In Colab\"/></a>"
      ]
    },
    {
      "cell_type": "markdown",
      "source": [
        "\n",
        "# **DSMP Fellowship Assignment 0.2**\n",
        "\n",
        "## **Q1: Class Attendance using a List**\n",
        "### You are keeping track of student attendance using a list. Sometimes students may enter their names more than once.\n",
        "\n",
        "### **Step 1: Create a list called attendance_list with the names:**\n",
        "\n",
        "`[\"John\", \"Emma\", \"John\", \"Ava\", \"Sophia\", \"Emma\"]`\n",
        "\n",
        "### **Step 2: Print the list to see the attendance.**\n",
        "\n",
        "### **Step 3: Count how many names (including duplicates) are in the list and print the total number**.\n"
      ],
      "metadata": {
        "id": "lMM23dWd93o3"
      }
    },
    {
      "cell_type": "code",
      "source": [
        "attendence_list=[\"john\",\"Emma\",\"Jhon\",\"Ava\",\"Sophia\",\"Emma\"]\n",
        "print(attendence_list)"
      ],
      "metadata": {
        "colab": {
          "base_uri": "https://localhost:8080/"
        },
        "id": "QB0DHC6N_6Ym",
        "outputId": "5df57320-4eea-4956-9585-a0ef5e6df96a"
      },
      "execution_count": null,
      "outputs": [
        {
          "output_type": "stream",
          "name": "stdout",
          "text": [
            "['john', 'Emma', 'Jhon', 'Ava', 'Sophia', 'Emma']\n"
          ]
        }
      ]
    },
    {
      "cell_type": "code",
      "source": [
        "total_names=len(attendence_list)\n",
        "print(total_names)"
      ],
      "metadata": {
        "colab": {
          "base_uri": "https://localhost:8080/"
        },
        "id": "UW7BSlkKBiUu",
        "outputId": "a74f0b22-93fe-49b3-8754-0e1a18a65fde"
      },
      "execution_count": null,
      "outputs": [
        {
          "output_type": "stream",
          "name": "stdout",
          "text": [
            "6\n"
          ]
        }
      ]
    },
    {
      "cell_type": "markdown",
      "source": [
        "## **Q2: Unique Attendance using a Set**\n",
        "### **Step 1: Convert the attendance_list from Question 1 into a set.**\n",
        "### **Step 2: Print the set to see the unique student names.**\n",
        "### **Step 3: Count and print the total number of unique students.**\n",
        "\n"
      ],
      "metadata": {
        "id": "YoeDTRAwFnl8"
      }
    },
    {
      "cell_type": "code",
      "source": [
        "# Convert the attendance_list to a set to remove duplicates .\n",
        "attendance_list=[\"John\",\"Emma\",\"John\",\"Ava\",\"Sophia\",\"Emma\"]\n",
        "unique_attendance_set=set(attendance_list)\n",
        "#Print the set to see the unique student names\n",
        "print(unique_attendance_set)\n",
        "\n",
        "# Count the total number of unique students\n",
        "total_unique_students = len(unique_attendance_set)\n",
        "print(total_unique_students)\n",
        "#Count and print the total number of unique students\n",
        "print(f\"The total number of uniqe students is: {total_unique_students}\")"
      ],
      "metadata": {
        "colab": {
          "base_uri": "https://localhost:8080/"
        },
        "id": "pARN_2IBN6pu",
        "outputId": "9ac39b16-daaf-4077-de66-99b47bd31d62"
      },
      "execution_count": null,
      "outputs": [
        {
          "output_type": "stream",
          "name": "stdout",
          "text": [
            "{'Emma', 'John', 'Sophia', 'Ava'}\n",
            "4\n",
            "The total number of uniqe students is: 4\n"
          ]
        }
      ]
    },
    {
      "cell_type": "markdown",
      "source": [
        "## **Q3: Storing Attendance Permanently with a Tuple**\n",
        "### A tuple is used when you don’t want the list to change. Let’s store the attendance in a tuple.\n",
        "### **Step 1: Create a tuple called attendance_tuple with these names:**\n",
        "`(\"John\", \"Emma\", \"Ava\", \"Sophia\")`\n",
        "\n",
        "### **Step 2: Print the tuple to display the names. **"
      ],
      "metadata": {
        "id": "lqvQkr6JUuex"
      }
    },
    {
      "cell_type": "code",
      "source": [
        "attendance_tuple=(\"John\",\"Emma\",\"Ava\",\"Sophia\")\n",
        "print(attendance_tuple)\n"
      ],
      "metadata": {
        "colab": {
          "base_uri": "https://localhost:8080/"
        },
        "id": "83wLJ3WxU9pf",
        "outputId": "3d910346-bed3-4856-b5a5-f7bfc2be81f6"
      },
      "execution_count": null,
      "outputs": [
        {
          "output_type": "stream",
          "name": "stdout",
          "text": [
            "('John', 'Emma', 'Ava', 'Sophia')\n"
          ]
        }
      ]
    },
    {
      "cell_type": "markdown",
      "source": [
        "## **Q4: Count Attendance using a Dictionary**\n",
        "### You want to count how many times each student attended the class.\n",
        "### **Step 1: Using the attendance_list from Question 1, create a dictionary where each student's name is a key, and the number of times they attended is the value.**\n",
        "### **Step 2: Print the dictionary to see each student's attendance count.**"
      ],
      "metadata": {
        "id": "O5K1lZ5PYl5A"
      }
    },
    {
      "cell_type": "code",
      "source": [
        "#Step 1: Using the attendance_list from Question 1, create a dictionary where each student's name is a key, and the number of times they attended is the value.\n",
        "attendence_list=[\"John\",\"Emma\",\"John\",\"Ava\",\"Sophia\",\"Emma\"]\n",
        "\n",
        "#Create an empty dictionary to store attendence counts\n",
        "attendance_count = {}\n",
        "\n",
        "#Loop through the attendance list to count the occurances of each name\n",
        "for name in  attendence_list:\n",
        "  if name in  attendance_count:\n",
        "      attendance_count[name] += 1 # Increment the count if the name is already in the dictionary\n",
        "else:\n",
        "      attendance_count[name] = 1 # Add the name to the dictionary with an initial count of 1\n",
        "\n",
        "#Step 2: Print the dictionary to see each student's attendance count\n",
        "print('Attendance_Count:', attendance_count)\n"
      ],
      "metadata": {
        "colab": {
          "base_uri": "https://localhost:8080/"
        },
        "id": "zSh81BumY8UV",
        "outputId": "14c5afea-6e32-4436-aa19-dc587b806454"
      },
      "execution_count": null,
      "outputs": [
        {
          "output_type": "stream",
          "name": "stdout",
          "text": [
            "Attendance_Count: {'Emma': 1}\n"
          ]
        }
      ]
    }
  ]
}